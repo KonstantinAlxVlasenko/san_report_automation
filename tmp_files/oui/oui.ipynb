{
 "cells": [
  {
   "cell_type": "code",
   "execution_count": 1,
   "metadata": {},
   "outputs": [],
   "source": [
    "import pandas as pd"
   ]
  },
  {
   "cell_type": "code",
   "execution_count": 32,
   "metadata": {},
   "outputs": [],
   "source": [
    "oui_df = pd.read_excel('oui_default.xlsx', sheet_name='db')"
   ]
  },
  {
   "cell_type": "code",
   "execution_count": 33,
   "metadata": {},
   "outputs": [
    {
     "data": {
      "text/html": [
       "<div>\n",
       "<style scoped>\n",
       "    .dataframe tbody tr th:only-of-type {\n",
       "        vertical-align: middle;\n",
       "    }\n",
       "\n",
       "    .dataframe tbody tr th {\n",
       "        vertical-align: top;\n",
       "    }\n",
       "\n",
       "    .dataframe thead th {\n",
       "        text-align: right;\n",
       "    }\n",
       "</style>\n",
       "<table border=\"1\" class=\"dataframe\">\n",
       "  <thead>\n",
       "    <tr style=\"text-align: right;\">\n",
       "      <th></th>\n",
       "      <th>wwn</th>\n",
       "      <th>type</th>\n",
       "    </tr>\n",
       "  </thead>\n",
       "  <tbody>\n",
       "    <tr>\n",
       "      <th>0</th>\n",
       "      <td>50:01:43:80:24:d5:a7:44</td>\n",
       "      <td>SRV</td>\n",
       "    </tr>\n",
       "    <tr>\n",
       "      <th>1</th>\n",
       "      <td>50:01:43:80:24:d5:ad:bc</td>\n",
       "      <td>SRV</td>\n",
       "    </tr>\n",
       "    <tr>\n",
       "      <th>2</th>\n",
       "      <td>50:01:43:80:24:d5:a8:58</td>\n",
       "      <td>SRV</td>\n",
       "    </tr>\n",
       "    <tr>\n",
       "      <th>3</th>\n",
       "      <td>50:01:43:80:24:d5:ab:40</td>\n",
       "      <td>SRV</td>\n",
       "    </tr>\n",
       "    <tr>\n",
       "      <th>4</th>\n",
       "      <td>50:01:43:80:24:d5:aa:24</td>\n",
       "      <td>SRV</td>\n",
       "    </tr>\n",
       "  </tbody>\n",
       "</table>\n",
       "</div>"
      ],
      "text/plain": [
       "                       wwn type\n",
       "0  50:01:43:80:24:d5:a7:44  SRV\n",
       "1  50:01:43:80:24:d5:ad:bc  SRV\n",
       "2  50:01:43:80:24:d5:a8:58  SRV\n",
       "3  50:01:43:80:24:d5:ab:40  SRV\n",
       "4  50:01:43:80:24:d5:aa:24  SRV"
      ]
     },
     "execution_count": 33,
     "metadata": {},
     "output_type": "execute_result"
    }
   ],
   "source": [
    "oui_df.head()"
   ]
  },
  {
   "cell_type": "code",
   "execution_count": 4,
   "metadata": {},
   "outputs": [
    {
     "name": "stdout",
     "output_type": "stream",
     "text": [
      "<class 'pandas.core.frame.DataFrame'>\n",
      "RangeIndex: 5111 entries, 0 to 5110\n",
      "Data columns (total 2 columns):\n",
      "wwn     5111 non-null object\n",
      "type    5111 non-null object\n",
      "dtypes: object(2)\n",
      "memory usage: 80.0+ KB\n"
     ]
    }
   ],
   "source": [
    "oui_df.info()"
   ]
  },
  {
   "cell_type": "code",
   "execution_count": 34,
   "metadata": {},
   "outputs": [
    {
     "data": {
      "text/plain": [
       "0       43:80:24\n",
       "1       43:80:24\n",
       "2       43:80:24\n",
       "3       43:80:24\n",
       "4       43:80:24\n",
       "          ...   \n",
       "5106    08:C0:02\n",
       "5107    08:C0:02\n",
       "5108    08:C0:02\n",
       "5109    08:C0:02\n",
       "5110    08:C0:02\n",
       "Name: wwn, Length: 5111, dtype: object"
      ]
     },
     "execution_count": 34,
     "metadata": {},
     "output_type": "execute_result"
    }
   ],
   "source": [
    "oui_df.wwn.str[6:14]"
   ]
  },
  {
   "cell_type": "code",
   "execution_count": 35,
   "metadata": {},
   "outputs": [],
   "source": [
    "oui_df['oui'] = oui_df.wwn.str[6:14]"
   ]
  },
  {
   "cell_type": "code",
   "execution_count": 37,
   "metadata": {},
   "outputs": [],
   "source": [
    "oui_df.oui = oui_df.oui.str.lower()"
   ]
  },
  {
   "cell_type": "code",
   "execution_count": 38,
   "metadata": {},
   "outputs": [],
   "source": [
    "oui_df.drop_duplicates(subset = ['type', 'oui'], inplace=True)"
   ]
  },
  {
   "cell_type": "code",
   "execution_count": 39,
   "metadata": {},
   "outputs": [
    {
     "name": "stdout",
     "output_type": "stream",
     "text": [
      "<class 'pandas.core.frame.DataFrame'>\n",
      "Int64Index: 148 entries, 0 to 5105\n",
      "Data columns (total 3 columns):\n",
      "wwn     148 non-null object\n",
      "type    148 non-null object\n",
      "oui     148 non-null object\n",
      "dtypes: object(3)\n",
      "memory usage: 4.6+ KB\n"
     ]
    }
   ],
   "source": [
    "oui_df.info()"
   ]
  },
  {
   "cell_type": "code",
   "execution_count": 59,
   "metadata": {},
   "outputs": [
    {
     "data": {
      "text/html": [
       "<div>\n",
       "<style scoped>\n",
       "    .dataframe tbody tr th:only-of-type {\n",
       "        vertical-align: middle;\n",
       "    }\n",
       "\n",
       "    .dataframe tbody tr th {\n",
       "        vertical-align: top;\n",
       "    }\n",
       "\n",
       "    .dataframe thead th {\n",
       "        text-align: right;\n",
       "    }\n",
       "</style>\n",
       "<table border=\"1\" class=\"dataframe\">\n",
       "  <thead>\n",
       "    <tr style=\"text-align: right;\">\n",
       "      <th></th>\n",
       "      <th>wwn</th>\n",
       "      <th>type</th>\n",
       "      <th>oui</th>\n",
       "    </tr>\n",
       "  </thead>\n",
       "  <tbody>\n",
       "    <tr>\n",
       "      <th>3935</th>\n",
       "      <td>10:00:00:05:1E:FB:C6:56</td>\n",
       "      <td>SRV|BROCADE_SW</td>\n",
       "      <td>00:05:1e</td>\n",
       "    </tr>\n",
       "    <tr>\n",
       "      <th>156</th>\n",
       "      <td>10:00:00:05:1e:a9:d0:b3</td>\n",
       "      <td>SRV|BROCADE_SW</td>\n",
       "      <td>00:05:1e</td>\n",
       "    </tr>\n",
       "    <tr>\n",
       "      <th>1660</th>\n",
       "      <td>10:00:00:05:33:90:82:ae</td>\n",
       "      <td>SRV|BROCADE_SW</td>\n",
       "      <td>00:05:33</td>\n",
       "    </tr>\n",
       "    <tr>\n",
       "      <th>674</th>\n",
       "      <td>10:00:00:05:33:4e:42:5c</td>\n",
       "      <td>SRV|BROCADE_SW</td>\n",
       "      <td>00:05:33</td>\n",
       "    </tr>\n",
       "    <tr>\n",
       "      <th>378</th>\n",
       "      <td>21:00:00:24:ff:04:b5:e5</td>\n",
       "      <td>SRV|STORAGE</td>\n",
       "      <td>00:24:ff</td>\n",
       "    </tr>\n",
       "    <tr>\n",
       "      <th>1602</th>\n",
       "      <td>21:00:00:24:ff:79:d2:c6</td>\n",
       "      <td>SRV|STORAGE</td>\n",
       "      <td>00:24:ff</td>\n",
       "    </tr>\n",
       "    <tr>\n",
       "      <th>711</th>\n",
       "      <td>51:40:2e:c0:00:d4:19:f4</td>\n",
       "      <td>STORAGE|LIB</td>\n",
       "      <td>2e:c0:00</td>\n",
       "    </tr>\n",
       "    <tr>\n",
       "      <th>1814</th>\n",
       "      <td>51:40:2e:c0:00:f6:18:7c</td>\n",
       "      <td>STORAGE|LIB</td>\n",
       "      <td>2e:c0:00</td>\n",
       "    </tr>\n",
       "    <tr>\n",
       "      <th>1782</th>\n",
       "      <td>50:01:43:80:00:c5:a4:30</td>\n",
       "      <td>SRV|STORAGE</td>\n",
       "      <td>43:80:00</td>\n",
       "    </tr>\n",
       "    <tr>\n",
       "      <th>4775</th>\n",
       "      <td>50:01:43:80:00:06:3F:49</td>\n",
       "      <td>SRV|STORAGE</td>\n",
       "      <td>43:80:00</td>\n",
       "    </tr>\n",
       "    <tr>\n",
       "      <th>520</th>\n",
       "      <td>50:01:43:80:01:69:73:da</td>\n",
       "      <td>SRV|STORAGE</td>\n",
       "      <td>43:80:01</td>\n",
       "    </tr>\n",
       "    <tr>\n",
       "      <th>4555</th>\n",
       "      <td>50:01:43:80:01:3B:E4:48</td>\n",
       "      <td>SRV|STORAGE</td>\n",
       "      <td>43:80:01</td>\n",
       "    </tr>\n",
       "    <tr>\n",
       "      <th>262</th>\n",
       "      <td>50:01:43:80:03:2E:21:83</td>\n",
       "      <td>STORAGE|LIB</td>\n",
       "      <td>43:80:03</td>\n",
       "    </tr>\n",
       "    <tr>\n",
       "      <th>633</th>\n",
       "      <td>50:01:43:80:03:3a:8a:6e</td>\n",
       "      <td>STORAGE|LIB</td>\n",
       "      <td>43:80:03</td>\n",
       "    </tr>\n",
       "    <tr>\n",
       "      <th>4559</th>\n",
       "      <td>50:01:43:80:04:C5:F3:A8</td>\n",
       "      <td>SRV|STORAGE</td>\n",
       "      <td>43:80:04</td>\n",
       "    </tr>\n",
       "    <tr>\n",
       "      <th>558</th>\n",
       "      <td>50:01:43:80:04:25:20:3c</td>\n",
       "      <td>SRV|STORAGE</td>\n",
       "      <td>43:80:04</td>\n",
       "    </tr>\n",
       "    <tr>\n",
       "      <th>1081</th>\n",
       "      <td>50:01:43:80:12:8e:40:08</td>\n",
       "      <td>STORAGE|LIB</td>\n",
       "      <td>43:80:12</td>\n",
       "    </tr>\n",
       "    <tr>\n",
       "      <th>502</th>\n",
       "      <td>50:01:43:80:12:0b:76:70</td>\n",
       "      <td>STORAGE|LIB</td>\n",
       "      <td>43:80:12</td>\n",
       "    </tr>\n",
       "    <tr>\n",
       "      <th>703</th>\n",
       "      <td>50:01:43:80:16:7a:11:a8</td>\n",
       "      <td>STORAGE|LIB</td>\n",
       "      <td>43:80:16</td>\n",
       "    </tr>\n",
       "    <tr>\n",
       "      <th>96</th>\n",
       "      <td>50:01:43:80:16:02:38:18</td>\n",
       "      <td>STORAGE|LIB</td>\n",
       "      <td>43:80:16</td>\n",
       "    </tr>\n",
       "    <tr>\n",
       "      <th>1590</th>\n",
       "      <td>50:01:43:80:24:47:ee:1e</td>\n",
       "      <td>STORAGE|SRV</td>\n",
       "      <td>43:80:24</td>\n",
       "    </tr>\n",
       "    <tr>\n",
       "      <th>0</th>\n",
       "      <td>50:01:43:80:24:d5:a7:44</td>\n",
       "      <td>STORAGE|SRV</td>\n",
       "      <td>43:80:24</td>\n",
       "    </tr>\n",
       "    <tr>\n",
       "      <th>741</th>\n",
       "      <td>50:01:43:80:36:be:93:d7</td>\n",
       "      <td>STORAGE|LIB</td>\n",
       "      <td>43:80:36</td>\n",
       "    </tr>\n",
       "    <tr>\n",
       "      <th>1500</th>\n",
       "      <td>50:01:43:80:36:85:d6:2c</td>\n",
       "      <td>STORAGE|LIB</td>\n",
       "      <td>43:80:36</td>\n",
       "    </tr>\n",
       "  </tbody>\n",
       "</table>\n",
       "</div>"
      ],
      "text/plain": [
       "                          wwn            type       oui\n",
       "3935  10:00:00:05:1E:FB:C6:56  SRV|BROCADE_SW  00:05:1e\n",
       "156   10:00:00:05:1e:a9:d0:b3  SRV|BROCADE_SW  00:05:1e\n",
       "1660  10:00:00:05:33:90:82:ae  SRV|BROCADE_SW  00:05:33\n",
       "674   10:00:00:05:33:4e:42:5c  SRV|BROCADE_SW  00:05:33\n",
       "378   21:00:00:24:ff:04:b5:e5     SRV|STORAGE  00:24:ff\n",
       "1602  21:00:00:24:ff:79:d2:c6     SRV|STORAGE  00:24:ff\n",
       "711   51:40:2e:c0:00:d4:19:f4     STORAGE|LIB  2e:c0:00\n",
       "1814  51:40:2e:c0:00:f6:18:7c     STORAGE|LIB  2e:c0:00\n",
       "1782  50:01:43:80:00:c5:a4:30     SRV|STORAGE  43:80:00\n",
       "4775  50:01:43:80:00:06:3F:49     SRV|STORAGE  43:80:00\n",
       "520   50:01:43:80:01:69:73:da     SRV|STORAGE  43:80:01\n",
       "4555  50:01:43:80:01:3B:E4:48     SRV|STORAGE  43:80:01\n",
       "262   50:01:43:80:03:2E:21:83     STORAGE|LIB  43:80:03\n",
       "633   50:01:43:80:03:3a:8a:6e     STORAGE|LIB  43:80:03\n",
       "4559  50:01:43:80:04:C5:F3:A8     SRV|STORAGE  43:80:04\n",
       "558   50:01:43:80:04:25:20:3c     SRV|STORAGE  43:80:04\n",
       "1081  50:01:43:80:12:8e:40:08     STORAGE|LIB  43:80:12\n",
       "502   50:01:43:80:12:0b:76:70     STORAGE|LIB  43:80:12\n",
       "703   50:01:43:80:16:7a:11:a8     STORAGE|LIB  43:80:16\n",
       "96    50:01:43:80:16:02:38:18     STORAGE|LIB  43:80:16\n",
       "1590  50:01:43:80:24:47:ee:1e     STORAGE|SRV  43:80:24\n",
       "0     50:01:43:80:24:d5:a7:44     STORAGE|SRV  43:80:24\n",
       "741   50:01:43:80:36:be:93:d7     STORAGE|LIB  43:80:36\n",
       "1500  50:01:43:80:36:85:d6:2c     STORAGE|LIB  43:80:36"
      ]
     },
     "execution_count": 59,
     "metadata": {},
     "output_type": "execute_result"
    }
   ],
   "source": [
    "oui_df[oui_df.duplicated(subset='oui', keep=False)].sort_values(by = 'oui')"
   ]
  },
  {
   "cell_type": "code",
   "execution_count": 31,
   "metadata": {},
   "outputs": [
    {
     "data": {
      "text/html": [
       "<div>\n",
       "<style scoped>\n",
       "    .dataframe tbody tr th:only-of-type {\n",
       "        vertical-align: middle;\n",
       "    }\n",
       "\n",
       "    .dataframe tbody tr th {\n",
       "        vertical-align: top;\n",
       "    }\n",
       "\n",
       "    .dataframe thead th {\n",
       "        text-align: right;\n",
       "    }\n",
       "</style>\n",
       "<table border=\"1\" class=\"dataframe\">\n",
       "  <thead>\n",
       "    <tr style=\"text-align: right;\">\n",
       "      <th></th>\n",
       "      <th>wwn</th>\n",
       "      <th>type</th>\n",
       "      <th>oui</th>\n",
       "    </tr>\n",
       "  </thead>\n",
       "  <tbody>\n",
       "    <tr>\n",
       "      <td>0</td>\n",
       "      <td>50:01:43:80:24:d5:a7:44</td>\n",
       "      <td>SRV</td>\n",
       "      <td>43:80:24</td>\n",
       "    </tr>\n",
       "    <tr>\n",
       "      <td>12</td>\n",
       "      <td>50:06:0b:00:00:c2:62:80</td>\n",
       "      <td>SRV</td>\n",
       "      <td>0b:00:00</td>\n",
       "    </tr>\n",
       "    <tr>\n",
       "      <td>14</td>\n",
       "      <td>10:00:98:f2:b3:a1:2f:96</td>\n",
       "      <td>SRV</td>\n",
       "      <td>98:f2:b3</td>\n",
       "    </tr>\n",
       "    <tr>\n",
       "      <td>16</td>\n",
       "      <td>10:00:00:00:c9:e0:cb:8f</td>\n",
       "      <td>SRV</td>\n",
       "      <td>00:00:c9</td>\n",
       "    </tr>\n",
       "    <tr>\n",
       "      <td>40</td>\n",
       "      <td>50:01:43:80:07:2c:8a:5a</td>\n",
       "      <td>SRV</td>\n",
       "      <td>43:80:07</td>\n",
       "    </tr>\n",
       "    <tr>\n",
       "      <td>...</td>\n",
       "      <td>...</td>\n",
       "      <td>...</td>\n",
       "      <td>...</td>\n",
       "    </tr>\n",
       "    <tr>\n",
       "      <td>4860</td>\n",
       "      <td>21:00:00:24:FF:61:E9:AB</td>\n",
       "      <td>STORAGE</td>\n",
       "      <td>00:24:FF</td>\n",
       "    </tr>\n",
       "    <tr>\n",
       "      <td>4868</td>\n",
       "      <td>20:16:00:A0:B8:11:64:58</td>\n",
       "      <td>STORAGE</td>\n",
       "      <td>00:A0:B8</td>\n",
       "    </tr>\n",
       "    <tr>\n",
       "      <td>4885</td>\n",
       "      <td>50:01:43:82:C6:D0:57:FD</td>\n",
       "      <td>LIB</td>\n",
       "      <td>43:82:C6</td>\n",
       "    </tr>\n",
       "    <tr>\n",
       "      <td>4914</td>\n",
       "      <td>20:01:00:13:21:44:32:9A</td>\n",
       "      <td>LIB</td>\n",
       "      <td>00:13:21</td>\n",
       "    </tr>\n",
       "    <tr>\n",
       "      <td>5105</td>\n",
       "      <td>50:03:08:C0:02:60:30:02</td>\n",
       "      <td>LIB</td>\n",
       "      <td>08:C0:02</td>\n",
       "    </tr>\n",
       "  </tbody>\n",
       "</table>\n",
       "<p>155 rows × 3 columns</p>\n",
       "</div>"
      ],
      "text/plain": [
       "                          wwn     type       oui\n",
       "0     50:01:43:80:24:d5:a7:44      SRV  43:80:24\n",
       "12    50:06:0b:00:00:c2:62:80      SRV  0b:00:00\n",
       "14    10:00:98:f2:b3:a1:2f:96      SRV  98:f2:b3\n",
       "16    10:00:00:00:c9:e0:cb:8f      SRV  00:00:c9\n",
       "40    50:01:43:80:07:2c:8a:5a      SRV  43:80:07\n",
       "...                       ...      ...       ...\n",
       "4860  21:00:00:24:FF:61:E9:AB  STORAGE  00:24:FF\n",
       "4868  20:16:00:A0:B8:11:64:58  STORAGE  00:A0:B8\n",
       "4885  50:01:43:82:C6:D0:57:FD      LIB  43:82:C6\n",
       "4914  20:01:00:13:21:44:32:9A      LIB  00:13:21\n",
       "5105  50:03:08:C0:02:60:30:02      LIB  08:C0:02\n",
       "\n",
       "[155 rows x 3 columns]"
      ]
     },
     "execution_count": 31,
     "metadata": {},
     "output_type": "execute_result"
    }
   ],
   "source": [
    "oui_df"
   ]
  },
  {
   "cell_type": "code",
   "execution_count": 32,
   "metadata": {},
   "outputs": [
    {
     "data": {
      "text/html": [
       "<div>\n",
       "<style scoped>\n",
       "    .dataframe tbody tr th:only-of-type {\n",
       "        vertical-align: middle;\n",
       "    }\n",
       "\n",
       "    .dataframe tbody tr th {\n",
       "        vertical-align: top;\n",
       "    }\n",
       "\n",
       "    .dataframe thead th {\n",
       "        text-align: right;\n",
       "    }\n",
       "</style>\n",
       "<table border=\"1\" class=\"dataframe\">\n",
       "  <thead>\n",
       "    <tr style=\"text-align: right;\">\n",
       "      <th></th>\n",
       "      <th>wwn</th>\n",
       "      <th>type</th>\n",
       "      <th>oui</th>\n",
       "    </tr>\n",
       "  </thead>\n",
       "  <tbody>\n",
       "    <tr>\n",
       "      <td>148</td>\n",
       "      <td>20:00:00:11:0a:05:aa:ec</td>\n",
       "      <td>VC</td>\n",
       "      <td>00:11:0a</td>\n",
       "    </tr>\n",
       "    <tr>\n",
       "      <td>1906</td>\n",
       "      <td>20:00:00:24:81:76:d7:94</td>\n",
       "      <td>VC</td>\n",
       "      <td>00:24:81</td>\n",
       "    </tr>\n",
       "  </tbody>\n",
       "</table>\n",
       "</div>"
      ],
      "text/plain": [
       "                          wwn type       oui\n",
       "148   20:00:00:11:0a:05:aa:ec   VC  00:11:0a\n",
       "1906  20:00:00:24:81:76:d7:94   VC  00:24:81"
      ]
     },
     "execution_count": 32,
     "metadata": {},
     "output_type": "execute_result"
    }
   ],
   "source": [
    "oui_df[oui_df.type == 'VC']"
   ]
  },
  {
   "cell_type": "code",
   "execution_count": 41,
   "metadata": {},
   "outputs": [],
   "source": [
    "oui_df.loc[oui_df.oui == '00:05:1e', 'type'] = 'SRV|BROCADE_SW'"
   ]
  },
  {
   "cell_type": "code",
   "execution_count": 42,
   "metadata": {},
   "outputs": [],
   "source": [
    "oui_df.loc[oui_df.oui == '00:05:33', 'type'] = 'SRV|BROCADE_SW'"
   ]
  },
  {
   "cell_type": "code",
   "execution_count": 45,
   "metadata": {},
   "outputs": [],
   "source": [
    "oui_df.drop(index=3494, inplace = True)"
   ]
  },
  {
   "cell_type": "code",
   "execution_count": 47,
   "metadata": {},
   "outputs": [],
   "source": [
    "oui_df.loc[oui_df.oui == '00:24:ff', 'type'] = 'SRV|STORAGE'"
   ]
  },
  {
   "cell_type": "code",
   "execution_count": 48,
   "metadata": {},
   "outputs": [],
   "source": [
    "oui_df.loc[oui_df.oui == '43:80:00', 'type'] = 'SRV|STORAGE'"
   ]
  },
  {
   "cell_type": "code",
   "execution_count": 49,
   "metadata": {},
   "outputs": [],
   "source": [
    "oui_df.loc[oui_df.oui == '43:80:01', 'type'] = 'SRV|STORAGE'"
   ]
  },
  {
   "cell_type": "code",
   "execution_count": 50,
   "metadata": {},
   "outputs": [],
   "source": [
    "oui_df.loc[oui_df.oui == '43:80:04', 'type'] = 'SRV|STORAGE'"
   ]
  },
  {
   "cell_type": "code",
   "execution_count": 51,
   "metadata": {},
   "outputs": [],
   "source": [
    "oui_df.loc[oui_df.oui == '43:80:24', 'type'] = 'STORAGE|SRV'"
   ]
  },
  {
   "cell_type": "code",
   "execution_count": 53,
   "metadata": {},
   "outputs": [],
   "source": [
    "oui_df.loc[oui_df.oui == '2e:c0:00', 'type'] = 'STORAGE|LIB'"
   ]
  },
  {
   "cell_type": "code",
   "execution_count": 54,
   "metadata": {},
   "outputs": [],
   "source": [
    "oui_df.loc[oui_df.oui == '43:80:03', 'type'] = 'STORAGE|LIB'"
   ]
  },
  {
   "cell_type": "code",
   "execution_count": 55,
   "metadata": {},
   "outputs": [],
   "source": [
    "oui_df.loc[oui_df.oui == '43:80:12', 'type'] = 'STORAGE|LIB'"
   ]
  },
  {
   "cell_type": "code",
   "execution_count": 57,
   "metadata": {},
   "outputs": [],
   "source": [
    "oui_df.loc[oui_df.oui == '43:80:16', 'type'] = 'STORAGE|LIB'"
   ]
  },
  {
   "cell_type": "code",
   "execution_count": 58,
   "metadata": {},
   "outputs": [],
   "source": [
    "oui_df.loc[oui_df.oui == '43:80:36', 'type'] = 'STORAGE|LIB'"
   ]
  },
  {
   "cell_type": "code",
   "execution_count": 60,
   "metadata": {},
   "outputs": [],
   "source": [
    "oui_df.drop_duplicates(subset = ['type', 'oui'], inplace=True)"
   ]
  },
  {
   "cell_type": "code",
   "execution_count": 61,
   "metadata": {},
   "outputs": [],
   "source": [
    "oui_df.sort_values(by = ['type', 'oui'], inplace = True)"
   ]
  },
  {
   "cell_type": "code",
   "execution_count": 62,
   "metadata": {},
   "outputs": [],
   "source": [
    "oui_df.reset_index(drop= True, inplace=True)"
   ]
  },
  {
   "cell_type": "code",
   "execution_count": 63,
   "metadata": {},
   "outputs": [
    {
     "data": {
      "text/html": [
       "<div>\n",
       "<style scoped>\n",
       "    .dataframe tbody tr th:only-of-type {\n",
       "        vertical-align: middle;\n",
       "    }\n",
       "\n",
       "    .dataframe tbody tr th {\n",
       "        vertical-align: top;\n",
       "    }\n",
       "\n",
       "    .dataframe thead th {\n",
       "        text-align: right;\n",
       "    }\n",
       "</style>\n",
       "<table border=\"1\" class=\"dataframe\">\n",
       "  <thead>\n",
       "    <tr style=\"text-align: right;\">\n",
       "      <th></th>\n",
       "      <th>wwn</th>\n",
       "      <th>type</th>\n",
       "      <th>oui</th>\n",
       "    </tr>\n",
       "  </thead>\n",
       "  <tbody>\n",
       "    <tr>\n",
       "      <th>0</th>\n",
       "      <td>10:00:00:27:f8:c8:65:f2</td>\n",
       "      <td>BROCADE_SW</td>\n",
       "      <td>00:27:f8</td>\n",
       "    </tr>\n",
       "    <tr>\n",
       "      <th>1</th>\n",
       "      <td>10:00:00:60:69:C0:12:69</td>\n",
       "      <td>BROCADE_SW</td>\n",
       "      <td>00:60:69</td>\n",
       "    </tr>\n",
       "    <tr>\n",
       "      <th>2</th>\n",
       "      <td>10:00:50:eb:1a:e3:56:1c</td>\n",
       "      <td>BROCADE_SW</td>\n",
       "      <td>50:eb:1a</td>\n",
       "    </tr>\n",
       "    <tr>\n",
       "      <th>3</th>\n",
       "      <td>10:00:88:94:71:b7:39:f0</td>\n",
       "      <td>BROCADE_SW</td>\n",
       "      <td>88:94:71</td>\n",
       "    </tr>\n",
       "    <tr>\n",
       "      <th>4</th>\n",
       "      <td>10:00:c4:f5:7c:d9:5a:6a</td>\n",
       "      <td>BROCADE_SW</td>\n",
       "      <td>c4:f5:7c</td>\n",
       "    </tr>\n",
       "    <tr>\n",
       "      <th>...</th>\n",
       "      <td>...</td>\n",
       "      <td>...</td>\n",
       "      <td>...</td>\n",
       "    </tr>\n",
       "    <tr>\n",
       "      <th>130</th>\n",
       "      <td>50:01:43:80:16:02:38:18</td>\n",
       "      <td>STORAGE|LIB</td>\n",
       "      <td>43:80:16</td>\n",
       "    </tr>\n",
       "    <tr>\n",
       "      <th>131</th>\n",
       "      <td>50:01:43:80:36:be:93:d7</td>\n",
       "      <td>STORAGE|LIB</td>\n",
       "      <td>43:80:36</td>\n",
       "    </tr>\n",
       "    <tr>\n",
       "      <th>132</th>\n",
       "      <td>50:01:43:80:24:d5:a7:44</td>\n",
       "      <td>STORAGE|SRV</td>\n",
       "      <td>43:80:24</td>\n",
       "    </tr>\n",
       "    <tr>\n",
       "      <th>133</th>\n",
       "      <td>20:00:00:11:0a:05:aa:ec</td>\n",
       "      <td>VC</td>\n",
       "      <td>00:11:0a</td>\n",
       "    </tr>\n",
       "    <tr>\n",
       "      <th>134</th>\n",
       "      <td>20:00:00:24:81:76:d7:94</td>\n",
       "      <td>VC</td>\n",
       "      <td>00:24:81</td>\n",
       "    </tr>\n",
       "  </tbody>\n",
       "</table>\n",
       "<p>135 rows × 3 columns</p>\n",
       "</div>"
      ],
      "text/plain": [
       "                         wwn         type       oui\n",
       "0    10:00:00:27:f8:c8:65:f2   BROCADE_SW  00:27:f8\n",
       "1    10:00:00:60:69:C0:12:69   BROCADE_SW  00:60:69\n",
       "2    10:00:50:eb:1a:e3:56:1c   BROCADE_SW  50:eb:1a\n",
       "3    10:00:88:94:71:b7:39:f0   BROCADE_SW  88:94:71\n",
       "4    10:00:c4:f5:7c:d9:5a:6a   BROCADE_SW  c4:f5:7c\n",
       "..                       ...          ...       ...\n",
       "130  50:01:43:80:16:02:38:18  STORAGE|LIB  43:80:16\n",
       "131  50:01:43:80:36:be:93:d7  STORAGE|LIB  43:80:36\n",
       "132  50:01:43:80:24:d5:a7:44  STORAGE|SRV  43:80:24\n",
       "133  20:00:00:11:0a:05:aa:ec           VC  00:11:0a\n",
       "134  20:00:00:24:81:76:d7:94           VC  00:24:81\n",
       "\n",
       "[135 rows x 3 columns]"
      ]
     },
     "execution_count": 63,
     "metadata": {},
     "output_type": "execute_result"
    }
   ],
   "source": [
    "oui_df"
   ]
  },
  {
   "cell_type": "code",
   "execution_count": 65,
   "metadata": {},
   "outputs": [],
   "source": [
    "oui_df.to_excel('oui_2.xlsx', index=False)"
   ]
  },
  {
   "cell_type": "code",
   "execution_count": null,
   "metadata": {},
   "outputs": [],
   "source": []
  }
 ],
 "metadata": {
  "kernelspec": {
   "display_name": "Python 3",
   "language": "python",
   "name": "python3"
  },
  "language_info": {
   "codemirror_mode": {
    "name": "ipython",
    "version": 3
   },
   "file_extension": ".py",
   "mimetype": "text/x-python",
   "name": "python",
   "nbconvert_exporter": "python",
   "pygments_lexer": "ipython3",
   "version": "3.7.4"
  }
 },
 "nbformat": 4,
 "nbformat_minor": 2
}
